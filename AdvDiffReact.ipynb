{
 "cells": [
  {
   "cell_type": "code",
   "execution_count": null,
   "id": "2edb8ac7-d532-4940-8929-416ce1a92f3b",
   "metadata": {},
   "outputs": [],
   "source": [
    "import numpy as np\n",
    "import matplotlib.pyplot as plt\n",
    "import scipy.io\n",
    "import torch\n",
    "\n",
    "from mpl_toolkits.mplot3d import Axes3D\n",
    "from matplotlib import cm\n",
    "from matplotlib.colors import LightSource\n",
    "\n",
    "from tensorboard.backend.event_processing import event_accumulator\n",
    "import pandas as pd\n",
    "\n",
    "from src.OED import *\n",
    "from src.DQN import *\n",
    "from src.GA import *\n",
    "from pde.AdvectionDiffusionReaction import *"
   ]
  },
  {
   "cell_type": "markdown",
   "id": "ad917dda-a753-47a3-ae8f-9eafba1bf005",
   "metadata": {},
   "source": [
    "## Evaluating models"
   ]
  },
  {
   "cell_type": "code",
   "execution_count": null,
   "id": "600070a5-9682-4b65-a2ab-cb1e81217b76",
   "metadata": {},
   "outputs": [],
   "source": [
    "pde_system = ADR(ADRConfig())"
   ]
  },
  {
   "cell_type": "markdown",
   "id": "f4ff2f3e-329e-4161-9f8a-0c3a5d132906",
   "metadata": {},
   "source": [
    "### Old action space model "
   ]
  },
  {
   "cell_type": "code",
   "execution_count": null,
   "id": "e5d12bc9-3a79-4daf-af38-8eddd7709080",
   "metadata": {},
   "outputs": [],
   "source": [
    "seed = 1\n",
    "run_num = 1\n",
    "model_name = f'trained_model/ADR_old/ADR_old_dqn_1_seed_1.zip'\n",
    "config_path = f'trained_model/ADR_old/ADR_old_dqn_1_seed_1_config.pt'"
   ]
  },
  {
   "cell_type": "code",
   "execution_count": null,
   "id": "d5771440-7ec7-4e44-9f7b-f4876f9b11b7",
   "metadata": {},
   "outputs": [],
   "source": [
    "configs = torch.load(config_path, weights_only=False)\n",
    "\n",
    "# Access individual configs\n",
    "gym_config = configs[\"gym_config\"]\n",
    "dqn_config = configs[\"dqn_config\"]\n",
    "tensorboard_dir = configs[\"tensorboard_log\"]"
   ]
  },
  {
   "cell_type": "code",
   "execution_count": null,
   "id": "0d214614-f087-4a8a-9849-a07e2fbc6ed0",
   "metadata": {},
   "outputs": [],
   "source": [
    "gym_config.old_action_space = True\n",
    "dqn_old = DQN_OED(seed, pde_system, gym_config, dqn_config, verbose=1)\n",
    "dqn_old.load(model_name)"
   ]
  },
  {
   "cell_type": "code",
   "execution_count": null,
   "id": "45d4e2ed-bae0-43f8-a37f-b9b08e2bac63",
   "metadata": {},
   "outputs": [],
   "source": [
    "old_a_all_ep_rewards, old_a_best_rewards, old_a_optimal_states_all = dqn_old.evaluate(50)"
   ]
  },
  {
   "cell_type": "markdown",
   "id": "013d6722-1bc9-48f7-b3c1-a5851ab7f30a",
   "metadata": {},
   "source": [
    "### New Action space"
   ]
  },
  {
   "cell_type": "code",
   "execution_count": null,
   "id": "d84f5b06-05c3-41cf-ad83-3cebac11ce51",
   "metadata": {},
   "outputs": [],
   "source": [
    "seed = 1\n",
    "run_num = 1\n",
    "model_name = f'trained_model/ADR_new/ADR_new_dqn_1_seed_1.zip'\n",
    "config_path = f'trained_model/ADR_new/ADR_new_dqn_1_seed_1_config.pt'"
   ]
  },
  {
   "cell_type": "code",
   "execution_count": null,
   "id": "5332096b-3020-4480-866b-1eecc6fd7c07",
   "metadata": {},
   "outputs": [],
   "source": [
    "configs = torch.load(config_path, weights_only=False)\n",
    "\n",
    "# Access individual configs\n",
    "gym_config = configs[\"gym_config\"]\n",
    "dqn_config = configs[\"dqn_config\"]\n",
    "tensorboard_dir = configs[\"tensorboard_log\"]"
   ]
  },
  {
   "cell_type": "code",
   "execution_count": null,
   "id": "c2d75476-aef5-4b47-b634-2004536ebb2e",
   "metadata": {},
   "outputs": [],
   "source": [
    "gym_config.old_action_space = False\n",
    "dqn_new = DQN_OED(seed, pde_system, gym_config, dqn_config, verbose=1)\n",
    "dqn_new.load(model_name)"
   ]
  },
  {
   "cell_type": "code",
   "execution_count": null,
   "id": "63708184-a05d-4506-b468-5d1bb479990a",
   "metadata": {},
   "outputs": [],
   "source": [
    "new_a_all_ep_rewards, new_a_best_rewards, new_a_optimal_states_all = dqn_new.evaluate(num_episodes=20)"
   ]
  },
  {
   "cell_type": "markdown",
   "id": "70214fcb-4d2d-4c44-b798-9b38177cb8b3",
   "metadata": {},
   "source": [
    "### GA"
   ]
  },
  {
   "cell_type": "code",
   "execution_count": null,
   "id": "1df9aa9b-61f2-4a68-8f5e-bee2acb1305b",
   "metadata": {},
   "outputs": [],
   "source": [
    "ga_filename = \"GAResults/ADR_ga_1.mat\"\n",
    "ga_res = scipy.io.loadmat(ga_filename)"
   ]
  },
  {
   "cell_type": "markdown",
   "id": "e9477d75-0a6c-42ab-a68f-8d4bf540f758",
   "metadata": {},
   "source": [
    "## Plots"
   ]
  },
  {
   "cell_type": "code",
   "execution_count": null,
   "id": "97c28bfb-54c6-4892-be10-531235028921",
   "metadata": {},
   "outputs": [],
   "source": [
    "env = dqn_old.env"
   ]
  },
  {
   "cell_type": "code",
   "execution_count": null,
   "id": "53a7b491-c277-481d-82c4-13033900f78b",
   "metadata": {},
   "outputs": [],
   "source": [
    "fig = plt.figure(figsize=(12, 12)) \n",
    "\n",
    "x = np.linspace(0, 1, env.nx)\n",
    "y = np.linspace(0, 1, env.ny)\n",
    "X, Y = np.meshgrid(x, y)\n",
    "\n",
    "datasets = [\n",
    "    (env.pde_field[:, :, 0].T, rf\"Solution at $t = {env.pde_system.t_steps[0]}$\"),\n",
    "    (env.pde_field[:, :, -1].T, rf\"Solution at $t = {env.pde_system.t_steps[-1]}$\"),\n",
    "    (env.modes[:, 0].reshape(env.nx, env.ny).T, \"First KLD Mode\"),\n",
    "    (env.modes[:, 1].reshape(env.nx, env.ny).T, \"Second KLD Mode\")\n",
    "]\n",
    "\n",
    "for i, (data, title) in enumerate(datasets):\n",
    "    ax = fig.add_subplot(2, 2, i + 1, projection='3d')\n",
    "    \n",
    "    ls = LightSource(azdeg=315, altdeg=-65)\n",
    "    shaded = ls.shade(data, cmap=cm.coolwarm, vert_exag=0.1, blend_mode='soft')\n",
    "\n",
    "    surf = ax.plot_surface(X, Y, data, cmap='plasma', edgecolor='none', alpha=0.9)\n",
    "    \n",
    "    ax.set_title(title, fontsize=14, pad=10)\n",
    "    ax.set_xlabel(r'$x_1$', fontsize=12, labelpad=10)\n",
    "    ax.set_ylabel(r'$x_2$', fontsize=12, labelpad=10)\n",
    "    # ax.set_zlabel(r'$u(x_1, x_2)$', fontsize=12, labelpad=10)\n",
    "\n",
    "    ax.view_init(elev=35, azim=15)\n",
    "\n",
    "    fig.colorbar(surf, ax=ax, fraction=0.046, pad=0.04)\n",
    "\n",
    "plt.tight_layout()\n",
    "plt.savefig(\"3D_ADR_2x2.png\", dpi=400, bbox_inches='tight')\n",
    "\n",
    "\n",
    "plt.show()\n"
   ]
  },
  {
   "cell_type": "code",
   "execution_count": null,
   "id": "53388852-fcd0-4294-93c7-06b61e41a6f6",
   "metadata": {},
   "outputs": [],
   "source": [
    "# Old DQN: Training and reward"
   ]
  },
  {
   "cell_type": "code",
   "execution_count": null,
   "id": "c475a75a-5a7f-4e0b-a859-19422b4cb6f1",
   "metadata": {},
   "outputs": [],
   "source": [
    "log_dir = 'trained_model/ADR_old/DQN_12/'\n",
    "tags = ['rollout/ep_rew_mean', 'train/loss']\n",
    "\n",
    "# Load the TensorBoard data\n",
    "ea = event_accumulator.EventAccumulator(\n",
    "    log_dir,\n",
    "    size_guidance={\n",
    "        event_accumulator.SCALARS: 0,\n",
    "    }\n",
    ")\n",
    "ea.Reload()\n",
    "\n",
    "available_tags = ea.Tags()['scalars']\n",
    "\n",
    "fig, (ax1, ax2) = plt.subplots(2, 1, figsize=(12, 10))\n",
    "\n",
    "data_rew_mean = ea.Scalars('rollout/ep_rew_mean')\n",
    "df_rew_mean = pd.DataFrame(data_rew_mean)\n",
    "\n",
    "ax1.plot(df_rew_mean.step, df_rew_mean.value, label='rollout/ep_rew_mean', color='blue')\n",
    "ax1.set_title('Rollout Episode Reward Mean')\n",
    "# ax1.set_xlabel('Step')\n",
    "ax1.set_ylabel('Reward')\n",
    "ax1.legend()\n",
    "\n",
    "data_loss = ea.Scalars('train/loss')\n",
    "df_loss = pd.DataFrame(data_loss)\n",
    "\n",
    "ax2.plot(df_loss.step, df_loss.value, label='train/loss', color='orange')\n",
    "ax2.set_title('Training Loss')\n",
    "ax2.set_xlabel('Step')\n",
    "ax2.set_ylabel('Loss')\n",
    "ax2.set_yscale('log')\n",
    "ax2.legend()\n",
    "\n",
    "plt.tight_layout()\n",
    "# plt.savefig(\"old_dqn_IB2d.pdf\", dpi=400, bbox_inches='tight')\n",
    "plt.show()"
   ]
  },
  {
   "cell_type": "code",
   "execution_count": null,
   "id": "6cef4854-cf44-49fa-a3a5-23fc64830ac0",
   "metadata": {},
   "outputs": [],
   "source": [
    "# New DQN: Training and reward"
   ]
  },
  {
   "cell_type": "code",
   "execution_count": null,
   "id": "3bc2958d-50d9-4e06-b841-819dd3b7fcd7",
   "metadata": {},
   "outputs": [],
   "source": [
    "log_dir = 'trained_model/ADR_new/DQN_13'\n",
    "tags = ['rollout/ep_rew_mean', 'train/loss']\n",
    "\n",
    "# Load the TensorBoard data\n",
    "ea = event_accumulator.EventAccumulator(\n",
    "    log_dir,\n",
    "    size_guidance={\n",
    "        event_accumulator.SCALARS: 0,\n",
    "    }\n",
    ")\n",
    "ea.Reload()\n",
    "\n",
    "available_tags = ea.Tags()['scalars']\n",
    "\n",
    "fig, (ax1, ax2) = plt.subplots(2, 1, figsize=(12, 10))\n",
    "\n",
    "data_rew_mean = ea.Scalars('rollout/ep_rew_mean')\n",
    "df_rew_mean = pd.DataFrame(data_rew_mean)\n",
    "\n",
    "ax1.plot(df_rew_mean.step, df_rew_mean.value, label='rollout/ep_rew_mean', color='blue')\n",
    "ax1.set_title('Rollout Episode Reward Mean')\n",
    "# ax1.set_xlabel('Step')\n",
    "ax1.set_ylabel('Reward')\n",
    "ax1.legend()\n",
    "\n",
    "data_loss = ea.Scalars('train/loss')\n",
    "df_loss = pd.DataFrame(data_loss)\n",
    "\n",
    "ax2.plot(df_loss.step, df_loss.value, label='train/loss', color='orange')\n",
    "ax2.set_title('Training Loss')\n",
    "ax2.set_xlabel('Step')\n",
    "ax2.set_ylabel('Loss')\n",
    "ax2.set_yscale('log')\n",
    "ax2.legend()\n",
    "\n",
    "plt.tight_layout()\n",
    "# plt.savefig(\"new_dqn_IB2d.pdf\", dpi=400, bbox_inches='tight')\n",
    "plt.show()"
   ]
  },
  {
   "cell_type": "code",
   "execution_count": null,
   "id": "9c5aec74-c3fb-4fa5-b8da-77070e2cd71d",
   "metadata": {},
   "outputs": [],
   "source": [
    "# Reward distribution comparison"
   ]
  },
  {
   "cell_type": "code",
   "execution_count": null,
   "id": "b287f800-3f9f-49fb-845f-79a103616917",
   "metadata": {},
   "outputs": [],
   "source": [
    "plt.figure(figsize=(10, 7))\n",
    "plt.hist(old_a_best_rewards, bins=20, \n",
    "         color='#4F94CD',\n",
    "         edgecolor='white', \n",
    "         linewidth=1.5, \n",
    "         alpha=0.6, \n",
    "         density=True,  # Normalize densities\n",
    "         label='Old Model')\n",
    "\n",
    "plt.hist(new_a_best_rewards, bins=20, \n",
    "         color='#FF8C00',\n",
    "         edgecolor='white', \n",
    "         linewidth=1.5, \n",
    "         alpha=0.6, \n",
    "         density=True,  # Normalize densities\n",
    "         label='New Model')\n",
    "\n",
    "mean_old = np.mean(old_a_best_rewards)\n",
    "mean_new = np.mean(new_a_best_rewards)\n",
    "ga_best = ga_res['best_fitness'][0][0]\n",
    "\n",
    "plt.axvline(x=mean_old, color='#4F94CD', linestyle='--', linewidth=2, label=f'Mean (Old): {mean_old:.4e}')\n",
    "plt.axvline(x=mean_new, color='#FF8C00', linestyle='--', linewidth=2, label=f'Mean (New): {mean_new:.4e}')\n",
    "# plt.axvline(x=ga_best, color='g', linestyle='--', linewidth=2, label=f'GA (Best): {ga_best:.2f}')\n",
    "\n",
    "plt.xlabel('Episode Best Reward', fontsize=18)\n",
    "plt.ylabel('Density', fontsize=18)\n",
    "plt.tick_params(axis='both', which='major', labelsize=18)\n",
    "plt.legend(fontsize=16)\n",
    "plt.tight_layout()\n",
    "# plt.savefig(\"ADR_res_hist.pdf\", dpi=400, bbox_inches='tight')\n",
    "plt.show()"
   ]
  }
 ],
 "metadata": {
  "kernelspec": {
   "display_name": "Python [conda env:cs234_a3]",
   "language": "python",
   "name": "conda-env-cs234_a3-py"
  },
  "language_info": {
   "codemirror_mode": {
    "name": "ipython",
    "version": 3
   },
   "file_extension": ".py",
   "mimetype": "text/x-python",
   "name": "python",
   "nbconvert_exporter": "python",
   "pygments_lexer": "ipython3",
   "version": "3.9.21"
  }
 },
 "nbformat": 4,
 "nbformat_minor": 5
}
