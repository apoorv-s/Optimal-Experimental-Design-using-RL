{
 "cells": [
  {
   "cell_type": "code",
   "execution_count": null,
   "id": "83a6cc13-e8c9-43e8-8cd8-e6e67dbf9312",
   "metadata": {},
   "outputs": [],
   "source": [
    "import numpy as np\n",
    "import matplotlib.pyplot as plt\n",
    "import scipy.io\n",
    "import torch\n",
    "\n",
    "import numpy as np\n",
    "import matplotlib.pyplot as plt\n",
    "from mpl_toolkits.mplot3d import Axes3D\n",
    "from matplotlib import cm\n",
    "from matplotlib.colors import LightSource\n",
    "\n",
    "from tensorboard.backend.event_processing import event_accumulator\n",
    "import pandas as pd\n",
    "\n",
    "from src.OED import *\n",
    "from src.DQN import *\n",
    "from src.GA import *\n",
    "from pde.Burgers2D import *"
   ]
  },
  {
   "cell_type": "markdown",
   "id": "6b9c1970-96c8-46e4-a955-a50a95613303",
   "metadata": {},
   "source": [
    "## Evaluating models"
   ]
  },
  {
   "cell_type": "code",
   "execution_count": null,
   "id": "f39426c9-6d4c-4986-ad00-4fb9002e02fc",
   "metadata": {},
   "outputs": [],
   "source": [
    "pde_system = Burgers2D(Burgers2DConfig())"
   ]
  },
  {
   "cell_type": "markdown",
   "id": "fc994b72-ad7d-4766-b5e8-c25f9114e5de",
   "metadata": {},
   "source": [
    "### Old action space model "
   ]
  },
  {
   "cell_type": "code",
   "execution_count": null,
   "id": "16d27dec-c4a8-4816-97e1-02aead8abf3c",
   "metadata": {},
   "outputs": [],
   "source": [
    "seed = 1\n",
    "run_num = 2\n",
    "model_name = f'trained_model/Burgers2D_old_dqn_{run_num}_seed_{seed}.zip'\n",
    "config_path = f'trained_model/Burgers2D_old_dqn_{run_num}_seed_{seed}_config.pt'"
   ]
  },
  {
   "cell_type": "code",
   "execution_count": null,
   "id": "d22bf2d9-22a7-4ddf-86e4-296af4407a17",
   "metadata": {},
   "outputs": [],
   "source": [
    "configs = torch.load(config_path, weights_only=False)\n",
    "\n",
    "# Access individual configs\n",
    "gym_config = configs[\"gym_config\"]\n",
    "dqn_config = configs[\"dqn_config\"]\n",
    "tensorboard_dir = configs[\"tensorboard_log\"]"
   ]
  },
  {
   "cell_type": "code",
   "execution_count": null,
   "id": "a4f7dbe8-7666-4286-9ded-504717b52a90",
   "metadata": {},
   "outputs": [],
   "source": [
    "gym_config.old_action_space = True\n",
    "dqn_old = DQN_OED(seed, pde_system, gym_config, dqn_config, verbose=1)\n",
    "dqn_old.load(model_name)"
   ]
  },
  {
   "cell_type": "code",
   "execution_count": null,
   "id": "21ae905d-a67e-44bb-95cc-2ae1757be6a1",
   "metadata": {},
   "outputs": [],
   "source": [
    "old_a_all_ep_rewards, old_a_best_rewards, old_a_optimal_states_all = dqn_old.evaluate(50)"
   ]
  },
  {
   "cell_type": "markdown",
   "id": "c34fabe3-e60d-4a69-8063-194c00491573",
   "metadata": {},
   "source": [
    "### New Action space"
   ]
  },
  {
   "cell_type": "code",
   "execution_count": null,
   "id": "b4fd4ad9-8cdd-4e93-a56f-e1a2c2eb0b27",
   "metadata": {},
   "outputs": [],
   "source": [
    "seed = 1\n",
    "run_num = 3\n",
    "model_name = f'trained_model/Burgers2D_new_dqn_{run_num}_seed_{seed}.zip'\n",
    "config_path = f'trained_model/Burgers2D_new_dqn_{run_num}_seed_{seed}_config.pt'"
   ]
  },
  {
   "cell_type": "code",
   "execution_count": null,
   "id": "f42c6f2d-d393-4b25-be19-620d6132eba1",
   "metadata": {},
   "outputs": [],
   "source": [
    "configs = torch.load(config_path, weights_only=False)\n",
    "\n",
    "# Access individual configs\n",
    "gym_config = configs[\"gym_config\"]\n",
    "dqn_config = configs[\"dqn_config\"]\n",
    "tensorboard_dir = configs[\"tensorboard_log\"]"
   ]
  },
  {
   "cell_type": "code",
   "execution_count": null,
   "id": "aa2b44a6-244a-4a5f-9900-5a72a82c4c93",
   "metadata": {},
   "outputs": [],
   "source": [
    "gym_config.old_action_space = False\n",
    "dqn_new = DQN_OED(seed, pde_system, gym_config, dqn_config, verbose=1)\n",
    "dqn_new.load(model_name)"
   ]
  },
  {
   "cell_type": "code",
   "execution_count": null,
   "id": "fa207c23-8e24-4505-b151-4471961c93b1",
   "metadata": {},
   "outputs": [],
   "source": [
    "new_a_all_ep_rewards, new_a_best_rewards, new_a_optimal_states_all = dqn_new.evaluate(num_episodes=20)"
   ]
  },
  {
   "cell_type": "markdown",
   "id": "91135c82-bada-4158-ac37-f86088e6be61",
   "metadata": {},
   "source": [
    "### GA"
   ]
  },
  {
   "cell_type": "code",
   "execution_count": null,
   "id": "63657846-7f64-4694-bda9-19d08c575bcb",
   "metadata": {},
   "outputs": [],
   "source": [
    "ga_filename = \"GAResults/Burgers2D_ga_2.mat\"\n",
    "ga_res = scipy.io.loadmat(ga_filename)"
   ]
  },
  {
   "cell_type": "markdown",
   "id": "00358fa7-6325-41f0-9c3b-5d307286d2bc",
   "metadata": {},
   "source": [
    "## Plots"
   ]
  },
  {
   "cell_type": "code",
   "execution_count": null,
   "id": "8b981aea-e88c-4b34-aec5-cce0212a65c0",
   "metadata": {},
   "outputs": [],
   "source": [
    "env = dqn_old.env"
   ]
  },
  {
   "cell_type": "code",
   "execution_count": null,
   "id": "5fa77f7d-7ffb-441c-a86e-fc817df8f1a6",
   "metadata": {},
   "outputs": [],
   "source": [
    "fig = plt.figure(figsize=(12, 12)) \n",
    "\n",
    "x = np.linspace(0, 1, env.nx)\n",
    "y = np.linspace(0, 1, env.ny)\n",
    "X, Y = np.meshgrid(x, y)\n",
    "\n",
    "datasets = [\n",
    "    (env.pde_field[:, :, 0].T, rf\"Solution at $t = {env.pde_system.t_steps[0]}$\"),\n",
    "    (env.pde_field[:, :, -1].T, rf\"Solution at $t = {env.pde_system.t_steps[-1]}$\"),\n",
    "    (env.modes[:, 0].reshape(env.nx, env.ny).T, \"First KLD Mode\"),\n",
    "    (env.modes[:, 1].reshape(env.nx, env.ny).T, \"Second KLD Mode\")\n",
    "]\n",
    "\n",
    "for i, (data, title) in enumerate(datasets):\n",
    "    ax = fig.add_subplot(2, 2, i + 1, projection='3d')\n",
    "    \n",
    "    ls = LightSource(azdeg=315, altdeg=-65)\n",
    "    shaded = ls.shade(data, cmap=cm.coolwarm, vert_exag=0.1, blend_mode='soft')\n",
    "\n",
    "    surf = ax.plot_surface(X, Y, data, cmap='plasma', edgecolor='none', alpha=0.9)\n",
    "    \n",
    "    ax.set_title(title, fontsize=14, pad=10)\n",
    "    ax.set_xlabel(r'$x_1$', fontsize=12, labelpad=10)\n",
    "    ax.set_ylabel(r'$x_2$', fontsize=12, labelpad=10)\n",
    "    # ax.set_zlabel(r'$u(x_1, x_2)$', fontsize=12, labelpad=10)\n",
    "\n",
    "    ax.view_init(elev=35, azim=-135)\n",
    "\n",
    "    fig.colorbar(surf, ax=ax, fraction=0.046, pad=0.04)\n",
    "\n",
    "plt.tight_layout()\n",
    "plt.savefig(\"3D_IB2d_2x2.png\", dpi=400, bbox_inches='tight')\n",
    "\n",
    "\n",
    "plt.show()\n"
   ]
  },
  {
   "cell_type": "code",
   "execution_count": null,
   "id": "d4a52c63-0614-411c-a9f4-f516090100ba",
   "metadata": {},
   "outputs": [],
   "source": [
    "# Old DQN: Training and reward"
   ]
  },
  {
   "cell_type": "code",
   "execution_count": null,
   "id": "ff3298cd-69da-4457-8c39-d189860db8d0",
   "metadata": {},
   "outputs": [],
   "source": [
    "log_dir = 'trained_model/IB_old/DQN_4/'\n",
    "tags = ['rollout/ep_rew_mean', 'train/loss']\n",
    "\n",
    "# Load the TensorBoard data\n",
    "ea = event_accumulator.EventAccumulator(\n",
    "    log_dir,\n",
    "    size_guidance={\n",
    "        event_accumulator.SCALARS: 0,\n",
    "    }\n",
    ")\n",
    "ea.Reload()\n",
    "\n",
    "available_tags = ea.Tags()['scalars']\n",
    "\n",
    "fig, (ax1, ax2) = plt.subplots(2, 1, figsize=(12, 10))\n",
    "\n",
    "data_rew_mean = ea.Scalars('rollout/ep_rew_mean')\n",
    "df_rew_mean = pd.DataFrame(data_rew_mean)\n",
    "\n",
    "ax1.plot(df_rew_mean.step, df_rew_mean.value, label='rollout/ep_rew_mean', color='blue')\n",
    "ax1.set_title('Rollout Episode Reward Mean')\n",
    "# ax1.set_xlabel('Step')\n",
    "ax1.set_ylabel('Reward')\n",
    "ax1.legend()\n",
    "\n",
    "data_loss = ea.Scalars('train/loss')\n",
    "df_loss = pd.DataFrame(data_loss)\n",
    "\n",
    "ax2.plot(df_loss.step, df_loss.value, label='train/loss', color='orange')\n",
    "ax2.set_title('Training Loss')\n",
    "ax2.set_xlabel('Step')\n",
    "ax2.set_ylabel('Loss')\n",
    "ax2.set_yscale('log')\n",
    "ax2.legend()\n",
    "\n",
    "plt.tight_layout()\n",
    "# plt.savefig(\"old_dqn_IB2d.pdf\", dpi=400, bbox_inches='tight')\n",
    "plt.show()"
   ]
  },
  {
   "cell_type": "code",
   "execution_count": null,
   "id": "8ebc8b04-fd66-4e9e-9d1c-dfb8fb912c80",
   "metadata": {},
   "outputs": [],
   "source": [
    "# New DQN: Training and reward"
   ]
  },
  {
   "cell_type": "code",
   "execution_count": null,
   "id": "18621a52-470c-4723-b3a9-cb5cd6d82fef",
   "metadata": {},
   "outputs": [],
   "source": [
    "log_dir = 'trained_model/IB_new/DQN_5/'\n",
    "tags = ['rollout/ep_rew_mean', 'train/loss']\n",
    "\n",
    "# Load the TensorBoard data\n",
    "ea = event_accumulator.EventAccumulator(\n",
    "    log_dir,\n",
    "    size_guidance={\n",
    "        event_accumulator.SCALARS: 0,\n",
    "    }\n",
    ")\n",
    "ea.Reload()\n",
    "\n",
    "available_tags = ea.Tags()['scalars']\n",
    "\n",
    "fig, (ax1, ax2) = plt.subplots(2, 1, figsize=(12, 10))\n",
    "\n",
    "data_rew_mean = ea.Scalars('rollout/ep_rew_mean')\n",
    "df_rew_mean = pd.DataFrame(data_rew_mean)\n",
    "\n",
    "ax1.plot(df_rew_mean.step, df_rew_mean.value, label='rollout/ep_rew_mean', color='blue')\n",
    "ax1.set_title('Rollout Episode Reward Mean')\n",
    "# ax1.set_xlabel('Step')\n",
    "ax1.set_ylabel('Reward')\n",
    "ax1.legend()\n",
    "\n",
    "data_loss = ea.Scalars('train/loss')\n",
    "df_loss = pd.DataFrame(data_loss)\n",
    "\n",
    "ax2.plot(df_loss.step, df_loss.value, label='train/loss', color='orange')\n",
    "ax2.set_title('Training Loss')\n",
    "ax2.set_xlabel('Step')\n",
    "ax2.set_ylabel('Loss')\n",
    "ax2.set_yscale('log')\n",
    "ax2.legend()\n",
    "\n",
    "plt.tight_layout()\n",
    "# plt.savefig(\"new_dqn_IB2d.pdf\", dpi=400, bbox_inches='tight')\n",
    "plt.show()"
   ]
  },
  {
   "cell_type": "code",
   "execution_count": null,
   "id": "7e23d974-eac8-4d59-846c-9c0a83d50499",
   "metadata": {},
   "outputs": [],
   "source": [
    "# Reward distribution comparison"
   ]
  },
  {
   "cell_type": "code",
   "execution_count": null,
   "id": "9818d785-8033-443a-9173-c94423ae95cd",
   "metadata": {},
   "outputs": [],
   "source": [
    "plt.figure(figsize=(10, 7))\n",
    "plt.hist(old_a_best_rewards, bins=20, \n",
    "         color='#4F94CD',\n",
    "         edgecolor='white', \n",
    "         linewidth=1.5, \n",
    "         alpha=0.6, \n",
    "         density=True,  # Normalize densities\n",
    "         label='Old Action Space')\n",
    "\n",
    "plt.hist(new_a_best_rewards, bins=20, \n",
    "         color='#FF8C00',\n",
    "         edgecolor='white', \n",
    "         linewidth=1.5, \n",
    "         alpha=0.6, \n",
    "         density=True,  # Normalize densities\n",
    "         label='New Action Space')\n",
    "\n",
    "mean_old = np.mean(old_a_best_rewards)\n",
    "mean_new = np.mean(new_a_best_rewards)\n",
    "ga_best = ga_res['best_fitness'][0][0]\n",
    "\n",
    "plt.axvline(x=mean_old, color='#4F94CD', linestyle='--', linewidth=2, label=f'Mean (Old A): {mean_old:.3e}')\n",
    "plt.axvline(x=mean_new, color='#FF8C00', linestyle='--', linewidth=2, label=f'Mean (New A): {mean_new:.3e}')\n",
    "# plt.axvline(x=ga_best, color='g', linestyle='--', linewidth=2, label=f'GA (Best): {ga_best:.2f}')\n",
    "\n",
    "plt.xlabel('Episode Best Reward', fontsize=18)\n",
    "plt.ylabel('Density', fontsize=18)\n",
    "plt.tick_params(axis='both', which='major', labelsize=18)\n",
    "plt.legend(fontsize=16)\n",
    "plt.tight_layout()\n",
    "plt.savefig(\"IB2d_res_hist.png\", dpi=400, bbox_inches='tight')\n",
    "plt.show()"
   ]
  }
 ],
 "metadata": {
  "kernelspec": {
   "display_name": "Python [conda env:cs234_a3]",
   "language": "python",
   "name": "conda-env-cs234_a3-py"
  },
  "language_info": {
   "codemirror_mode": {
    "name": "ipython",
    "version": 3
   },
   "file_extension": ".py",
   "mimetype": "text/x-python",
   "name": "python",
   "nbconvert_exporter": "python",
   "pygments_lexer": "ipython3",
   "version": "3.9.21"
  }
 },
 "nbformat": 4,
 "nbformat_minor": 5
}
